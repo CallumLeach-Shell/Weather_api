{
 "cells": [
  {
   "cell_type": "code",
   "execution_count": 1,
   "metadata": {},
   "outputs": [
    {
     "name": "stdout",
     "output_type": "stream",
     "text": [
      "<xarray.Dataset>\n",
      "Dimensions:    (time: 1032, bnds: 2, lat: 145, lon: 192)\n",
      "Coordinates:\n",
      "  * time       (time) datetime64[ns] 2015-01-16T12:00:00 ... 2100-12-16T12:00:00\n",
      "  * lat        (lat) float64 -90.0 -88.75 -87.5 -86.25 ... 86.25 87.5 88.75 90.0\n",
      "  * lon        (lon) float64 0.0 1.875 3.75 5.625 ... 352.5 354.4 356.2 358.1\n",
      "Dimensions without coordinates: bnds\n",
      "Data variables:\n",
      "    time_bnds  (time, bnds) datetime64[ns] ...\n",
      "    lat_bnds   (lat, bnds) float64 ...\n",
      "    lon_bnds   (lon, bnds) float64 ...\n",
      "    rsds       (time, lat, lon) float32 ...\n",
      "Attributes: (12/47)\n",
      "    Conventions:            CF-1.7 CMIP-6.2\n",
      "    activity_id:            ScenarioMIP\n",
      "    branch_method:          standard\n",
      "    branch_time_in_child:   60265.0\n",
      "    branch_time_in_parent:  60265.0\n",
      "    creation_date:          2019-11-15T03:19:18Z\n",
      "    ...                     ...\n",
      "    variable_id:            rsds\n",
      "    variant_label:          r1i1p1f1\n",
      "    version:                v20191115\n",
      "    cmor_version:           3.4.0\n",
      "    tracking_id:            hdl:21.14100/a89f8593-8b5d-47ce-9890-f47060b5f5e0\n",
      "    license:                CMIP6 model data produced by CSIRO is licensed un...\n"
     ]
    }
   ],
   "source": [
    "## This file will open any downloaded netCDF files and process them\n",
    "\n",
    "import netCDF4\n",
    "import numpy as np\n",
    "import matplotlib.pyplot as plt\n",
    "import json\n",
    "import xarray as xr\n",
    "\n",
    "file = xr.open_dataset('./CMIP6/rsds_Amon_ACCESS-ESM1-5_ssp126_r1i1p1f1_gn_201501-210012.nc')\n",
    "print(file)"
   ]
  },
  {
   "cell_type": "code",
   "execution_count": 2,
   "metadata": {},
   "outputs": [
    {
     "name": "stdout",
     "output_type": "stream",
     "text": [
      "KeysView(Frozen({'time': <xarray.IndexVariable 'time' (time: 1032)>\n",
      "array(['2015-01-16T12:00:00.000000000', '2015-02-15T00:00:00.000000000',\n",
      "       '2015-03-16T12:00:00.000000000', ..., '2100-10-16T12:00:00.000000000',\n",
      "       '2100-11-16T00:00:00.000000000', '2100-12-16T12:00:00.000000000'],\n",
      "      dtype='datetime64[ns]')\n",
      "Attributes:\n",
      "    bounds:         time_bnds\n",
      "    axis:           T\n",
      "    long_name:      time\n",
      "    standard_name:  time, 'time_bnds': <xarray.Variable (time: 1032, bnds: 2)>\n",
      "[2064 values with dtype=datetime64[ns]], 'lat': <xarray.IndexVariable 'lat' (lat: 145)>\n",
      "array([-90.  , -88.75, -87.5 , -86.25, -85.  , -83.75, -82.5 , -81.25, -80.  ,\n",
      "       -78.75, -77.5 , -76.25, -75.  , -73.75, -72.5 , -71.25, -70.  , -68.75,\n",
      "       -67.5 , -66.25, -65.  , -63.75, -62.5 , -61.25, -60.  , -58.75, -57.5 ,\n",
      "       -56.25, -55.  , -53.75, -52.5 , -51.25, -50.  , -48.75, -47.5 , -46.25,\n",
      "       -45.  , -43.75, -42.5 , -41.25, -40.  , -38.75, -37.5 , -36.25, -35.  ,\n",
      "       -33.75, -32.5 , -31.25, -30.  , -28.75, -27.5 , -26.25, -25.  , -23.75,\n",
      "       -22.5 , -21.25, -20.  , -18.75, -17.5 , -16.25, -15.  , -13.75, -12.5 ,\n",
      "       -11.25, -10.  ,  -8.75,  -7.5 ,  -6.25,  -5.  ,  -3.75,  -2.5 ,  -1.25,\n",
      "         0.  ,   1.25,   2.5 ,   3.75,   5.  ,   6.25,   7.5 ,   8.75,  10.  ,\n",
      "        11.25,  12.5 ,  13.75,  15.  ,  16.25,  17.5 ,  18.75,  20.  ,  21.25,\n",
      "        22.5 ,  23.75,  25.  ,  26.25,  27.5 ,  28.75,  30.  ,  31.25,  32.5 ,\n",
      "        33.75,  35.  ,  36.25,  37.5 ,  38.75,  40.  ,  41.25,  42.5 ,  43.75,\n",
      "        45.  ,  46.25,  47.5 ,  48.75,  50.  ,  51.25,  52.5 ,  53.75,  55.  ,\n",
      "        56.25,  57.5 ,  58.75,  60.  ,  61.25,  62.5 ,  63.75,  65.  ,  66.25,\n",
      "        67.5 ,  68.75,  70.  ,  71.25,  72.5 ,  73.75,  75.  ,  76.25,  77.5 ,\n",
      "        78.75,  80.  ,  81.25,  82.5 ,  83.75,  85.  ,  86.25,  87.5 ,  88.75,\n",
      "        90.  ])\n",
      "Attributes:\n",
      "    bounds:         lat_bnds\n",
      "    units:          degrees_north\n",
      "    axis:           Y\n",
      "    long_name:      Latitude\n",
      "    standard_name:  latitude, 'lat_bnds': <xarray.Variable (lat: 145, bnds: 2)>\n",
      "[290 values with dtype=float64], 'lon': <xarray.IndexVariable 'lon' (lon: 192)>\n",
      "array([  0.   ,   1.875,   3.75 ,   5.625,   7.5  ,   9.375,  11.25 ,  13.125,\n",
      "        15.   ,  16.875,  18.75 ,  20.625,  22.5  ,  24.375,  26.25 ,  28.125,\n",
      "        30.   ,  31.875,  33.75 ,  35.625,  37.5  ,  39.375,  41.25 ,  43.125,\n",
      "        45.   ,  46.875,  48.75 ,  50.625,  52.5  ,  54.375,  56.25 ,  58.125,\n",
      "        60.   ,  61.875,  63.75 ,  65.625,  67.5  ,  69.375,  71.25 ,  73.125,\n",
      "        75.   ,  76.875,  78.75 ,  80.625,  82.5  ,  84.375,  86.25 ,  88.125,\n",
      "        90.   ,  91.875,  93.75 ,  95.625,  97.5  ,  99.375, 101.25 , 103.125,\n",
      "       105.   , 106.875, 108.75 , 110.625, 112.5  , 114.375, 116.25 , 118.125,\n",
      "       120.   , 121.875, 123.75 , 125.625, 127.5  , 129.375, 131.25 , 133.125,\n",
      "       135.   , 136.875, 138.75 , 140.625, 142.5  , 144.375, 146.25 , 148.125,\n",
      "       150.   , 151.875, 153.75 , 155.625, 157.5  , 159.375, 161.25 , 163.125,\n",
      "       165.   , 166.875, 168.75 , 170.625, 172.5  , 174.375, 176.25 , 178.125,\n",
      "       180.   , 181.875, 183.75 , 185.625, 187.5  , 189.375, 191.25 , 193.125,\n",
      "       195.   , 196.875, 198.75 , 200.625, 202.5  , 204.375, 206.25 , 208.125,\n",
      "       210.   , 211.875, 213.75 , 215.625, 217.5  , 219.375, 221.25 , 223.125,\n",
      "       225.   , 226.875, 228.75 , 230.625, 232.5  , 234.375, 236.25 , 238.125,\n",
      "       240.   , 241.875, 243.75 , 245.625, 247.5  , 249.375, 251.25 , 253.125,\n",
      "       255.   , 256.875, 258.75 , 260.625, 262.5  , 264.375, 266.25 , 268.125,\n",
      "       270.   , 271.875, 273.75 , 275.625, 277.5  , 279.375, 281.25 , 283.125,\n",
      "       285.   , 286.875, 288.75 , 290.625, 292.5  , 294.375, 296.25 , 298.125,\n",
      "       300.   , 301.875, 303.75 , 305.625, 307.5  , 309.375, 311.25 , 313.125,\n",
      "       315.   , 316.875, 318.75 , 320.625, 322.5  , 324.375, 326.25 , 328.125,\n",
      "       330.   , 331.875, 333.75 , 335.625, 337.5  , 339.375, 341.25 , 343.125,\n",
      "       345.   , 346.875, 348.75 , 350.625, 352.5  , 354.375, 356.25 , 358.125])\n",
      "Attributes:\n",
      "    bounds:         lon_bnds\n",
      "    units:          degrees_east\n",
      "    axis:           X\n",
      "    long_name:      Longitude\n",
      "    standard_name:  longitude, 'lon_bnds': <xarray.Variable (lon: 192, bnds: 2)>\n",
      "[384 values with dtype=float64], 'rsds': <xarray.Variable (time: 1032, lat: 145, lon: 192)>\n",
      "[28730880 values with dtype=float32]\n",
      "Attributes:\n",
      "    standard_name:  surface_downwelling_shortwave_flux_in_air\n",
      "    long_name:      Surface Downwelling Shortwave Radiation\n",
      "    comment:        Surface solar irradiance for UV calculations.\n",
      "    units:          W m-2\n",
      "    cell_methods:   area: time: mean\n",
      "    cell_measures:  area: areacella\n",
      "    history:        2019-11-15T03:19:16Z altered by CMOR: replaced missing va...}))\n"
     ]
    }
   ],
   "source": [
    "print(file.variables.keys())"
   ]
  },
  {
   "cell_type": "markdown",
   "metadata": {},
   "source": []
  },
  {
   "cell_type": "code",
   "execution_count": 6,
   "metadata": {},
   "outputs": [
    {
     "name": "stdout",
     "output_type": "stream",
     "text": [
      "<xarray.Variable (time: 1032, lat: 145, lon: 192)>\n",
      "[28730880 values with dtype=float32]\n",
      "Attributes:\n",
      "    standard_name:  surface_downwelling_shortwave_flux_in_air\n",
      "    long_name:      Surface Downwelling Shortwave Radiation\n",
      "    comment:        Surface solar irradiance for UV calculations.\n",
      "    units:          W m-2\n",
      "    cell_methods:   area: time: mean\n",
      "    cell_measures:  area: areacella\n",
      "    history:        2019-11-15T03:19:16Z altered by CMOR: replaced missing va...\n"
     ]
    }
   ],
   "source": [
    "sfcWindmvar = file.variables['rsds']\n",
    "\n",
    "#sfcWind = sfcWindmvar[0,0,::-1,:] \n",
    "print(sfcWindmvar)\n",
    "\n",
    "#file.rsds"
   ]
  },
  {
   "cell_type": "code",
   "execution_count": 34,
   "metadata": {},
   "outputs": [
    {
     "name": "stdout",
     "output_type": "stream",
     "text": [
      "shape=(145, 192), type=<class 'numpy.ma.core.MaskedArray'>, missing_value=1e+20\n"
     ]
    }
   ],
   "source": [
    "sfcWind = sfcWindmvar[1, :, ::-1]\n",
    "\n",
    "print('shape=%s, type=%s, missing_value=%s' % \\\n",
    " (sfcWind.shape, type(sfcWind), sfcWindmvar.missing_value))"
   ]
  },
  {
   "cell_type": "code",
   "execution_count": 29,
   "metadata": {},
   "outputs": [
    {
     "name": "stdout",
     "output_type": "stream",
     "text": [
      "<xarray.Variable (time: 18263, lat: 145, lon: 192)>\n",
      "[508441920 values with dtype=float32]\n",
      "Attributes:\n",
      "    standard_name:  wind_speed\n",
      "    long_name:      Daily-Mean Near-Surface Wind Speed\n",
      "    comment:        near-surface (usually, 10 meters) wind speed.\n",
      "    units:          m s-1\n",
      "    cell_methods:   area: time: mean\n",
      "    cell_measures:  area: areacella\n",
      "    history:        2021-07-12T02:43:03Z altered by CMOR: Treated scalar dime...\n"
     ]
    }
   ],
   "source": [
    "print(sfcWindmvar)"
   ]
  },
  {
   "cell_type": "code",
   "execution_count": 6,
   "metadata": {},
   "outputs": [],
   "source": [
    "%matplotlib inline"
   ]
  },
  {
   "cell_type": "code",
   "execution_count": 35,
   "metadata": {},
   "outputs": [
    {
     "data": {
      "image/png": "[encoded data removed]",
      "text/plain": [
       "<Figure size 640x480 with 1 Axes>"
      ]
     },
     "metadata": {},
     "output_type": "display_data"
    }
   ],
   "source": [
    "cs = plt.contourf(sfcWind)"
   ]
  },
  {
   "cell_type": "code",
   "execution_count": 44,
   "metadata": {},
   "outputs": [
    {
     "name": "stdout",
     "output_type": "stream",
     "text": [
      "shape=(26, 22), type=<class 'numpy.ma.core.MaskedArray'>, missing_value=1e+20\n"
     ]
    },
    {
     "data": {
      "image/png": "[encoded data removed]",
      "text/plain": [
       "<Figure size 640x480 with 1 Axes>"
      ]
     },
     "metadata": {},
     "output_type": "display_data"
    }
   ],
   "source": [
    "# Here we want to be able to subset the data\n",
    "\n",
    "#Bounding boxes\n",
    "#uk = [-7.57216793459, 49.959999905, 1.68153079591, 58.6350001085]\n",
    "#uk = (73.6753792663, 18.197700914, 135.026311477, 53.4588044297)\n",
    "uk = (113.338953078, -43.6345972634, 153.569469029, -10.6681857235)\n",
    "latbounds = [uk[1], uk[3]]\n",
    "lonbounds = [uk[0], uk[2]]\n",
    "\n",
    "lats = file_2.variables[\"lat\"][:]\n",
    "lons = file_2.variables[\"lon\"][:]\n",
    "time = file_2.variables[\"time\"]\n",
    "\n",
    "# latitude lower and upper index\n",
    "latli = np.argmin( np.abs( lats - latbounds[0] ))\n",
    "latui = np.argmin( np.abs( lats - latbounds[1] )) \n",
    "\n",
    "# longitude lower and upper index\n",
    "lonli = np.argmin( np.abs( lons - lonbounds[0] ))\n",
    "lonui = np.argmin( np.abs( lons - lonbounds[1] ))  \n",
    "\n",
    "sfcWindSubset = file_2.variables['sfcWind']\n",
    "\n",
    "sfcWind = sfcWindSubset[0, latli:latui , lonli:lonui]\n",
    "sfcWind = sfcWind[:,::-1]\n",
    "\n",
    "## WRITING TO A NEW FILE ##\n",
    "\n",
    "#sfcWind.to_netcdf(path = './Processed/sfcWind_day_ACCESS-ESM1-5_ssp126_r34i1p1f1_gn_20150101-20641231.nc')\n",
    "\n",
    "print('shape=%s, type=%s, missing_value=%s' % \\\n",
    " (sfcWind.shape, type(sfcWind), sfcWindmvar.missing_value))\n",
    "\n",
    "sf = plt.contourf(sfcWind)"
   ]
  },
  {
   "cell_type": "code",
   "execution_count": 13,
   "metadata": {},
   "outputs": [
    {
     "name": "stdout",
     "output_type": "stream",
     "text": [
      "<xarray.Dataset>\n",
      "Dimensions:    (time: 1032, bnds: 2, lat: 26, lon: 21)\n",
      "Coordinates:\n",
      "  * time       (time) datetime64[ns] 2015-01-16T12:00:00 ... 2100-12-16T12:00:00\n",
      "  * lat        (lat) float64 -42.5 -41.25 -40.0 -38.75 ... -13.75 -12.5 -11.25\n",
      "  * lon        (lon) float64 114.4 116.2 118.1 120.0 ... 146.2 148.1 150.0 151.9\n",
      "Dimensions without coordinates: bnds\n",
      "Data variables:\n",
      "    time_bnds  (time, bnds) datetime64[ns] ...\n",
      "    lat_bnds   (lat, bnds) float64 ...\n",
      "    lon_bnds   (lon, bnds) float64 ...\n",
      "    rsds       (time, lat, lon) float32 ...\n",
      "Attributes: (12/47)\n",
      "    Conventions:            CF-1.7 CMIP-6.2\n",
      "    activity_id:            ScenarioMIP\n",
      "    branch_method:          standard\n",
      "    branch_time_in_child:   60265.0\n",
      "    branch_time_in_parent:  60265.0\n",
      "    creation_date:          2019-11-15T03:19:18Z\n",
      "    ...                     ...\n",
      "    variable_id:            rsds\n",
      "    variant_label:          r1i1p1f1\n",
      "    version:                v20191115\n",
      "    cmor_version:           3.4.0\n",
      "    tracking_id:            hdl:21.14100/a89f8593-8b5d-47ce-9890-f47060b5f5e0\n",
      "    license:                CMIP6 model data produced by CSIRO is licensed un...\n"
     ]
    },
    {
     "ename": "ValueError",
     "evalue": "the first argument to .sel must be a dictionary",
     "output_type": "error",
     "traceback": [
      "\u001b[1;31m---------------------------------------------------------------------------\u001b[0m",
      "\u001b[1;31mValueError\u001b[0m                                Traceback (most recent call last)",
      "Cell \u001b[1;32mIn[13], line 9\u001b[0m\n\u001b[0;32m      4\u001b[0m \u001b[39m#subset.to_netcdf('test.nc')\u001b[39;00m\n\u001b[0;32m      5\u001b[0m \n\u001b[0;32m      6\u001b[0m \u001b[39m#subset.variables.keys()\u001b[39;00m\n\u001b[0;32m      8\u001b[0m \u001b[39mprint\u001b[39m(subset)\n\u001b[1;32m----> 9\u001b[0m \u001b[39mprint\u001b[39m(subset\u001b[39m.\u001b[39;49msel(\u001b[39m'\u001b[39;49m\u001b[39mrsds\u001b[39;49m\u001b[39m'\u001b[39;49m))\n\u001b[0;32m     10\u001b[0m \u001b[39m#test = subset.variables['rsds'].to_array()\u001b[39;00m\n\u001b[0;32m     11\u001b[0m \u001b[39m#globe = file.sfcWind\u001b[39;00m\n\u001b[0;32m     12\u001b[0m \n\u001b[0;32m     13\u001b[0m \u001b[39m#plt.contourf(test[1,:,::-1])\u001b[39;00m\n\u001b[0;32m     14\u001b[0m \u001b[39m#plt.contourf(globe[1,:,::-1])\u001b[39;00m\n",
      "File \u001b[1;32mc:\\Users\\Callum.Leach\\Anaconda3\\envs\\Weather_api\\lib\\site-packages\\xarray\\core\\dataset.py:2572\u001b[0m, in \u001b[0;36mDataset.sel\u001b[1;34m(self, indexers, method, tolerance, drop, **indexers_kwargs)\u001b[0m\n\u001b[0;32m   2504\u001b[0m \u001b[39mdef\u001b[39;00m \u001b[39msel\u001b[39m(\n\u001b[0;32m   2505\u001b[0m     \u001b[39mself\u001b[39m: T_Dataset,\n\u001b[0;32m   2506\u001b[0m     indexers: Mapping[Any, Any] \u001b[39m|\u001b[39m \u001b[39mNone\u001b[39;00m \u001b[39m=\u001b[39m \u001b[39mNone\u001b[39;00m,\n\u001b[1;32m   (...)\u001b[0m\n\u001b[0;32m   2510\u001b[0m     \u001b[39m*\u001b[39m\u001b[39m*\u001b[39mindexers_kwargs: Any,\n\u001b[0;32m   2511\u001b[0m ) \u001b[39m-\u001b[39m\u001b[39m>\u001b[39m T_Dataset:\n\u001b[0;32m   2512\u001b[0m \u001b[39m    \u001b[39m\u001b[39m\"\"\"Returns a new dataset with each array indexed by tick labels\u001b[39;00m\n\u001b[0;32m   2513\u001b[0m \u001b[39m    along the specified dimension(s).\u001b[39;00m\n\u001b[0;32m   2514\u001b[0m \n\u001b[1;32m   (...)\u001b[0m\n\u001b[0;32m   2570\u001b[0m \u001b[39m    DataArray.sel\u001b[39;00m\n\u001b[0;32m   2571\u001b[0m \u001b[39m    \"\"\"\u001b[39;00m\n\u001b[1;32m-> 2572\u001b[0m     indexers \u001b[39m=\u001b[39m either_dict_or_kwargs(indexers, indexers_kwargs, \u001b[39m\"\u001b[39;49m\u001b[39msel\u001b[39;49m\u001b[39m\"\u001b[39;49m)\n\u001b[0;32m   2573\u001b[0m     query_results \u001b[39m=\u001b[39m map_index_queries(\n\u001b[0;32m   2574\u001b[0m         \u001b[39mself\u001b[39m, indexers\u001b[39m=\u001b[39mindexers, method\u001b[39m=\u001b[39mmethod, tolerance\u001b[39m=\u001b[39mtolerance\n\u001b[0;32m   2575\u001b[0m     )\n\u001b[0;32m   2577\u001b[0m     \u001b[39mif\u001b[39;00m drop:\n",
      "File \u001b[1;32mc:\\Users\\Callum.Leach\\Anaconda3\\envs\\Weather_api\\lib\\site-packages\\xarray\\core\\utils.py:279\u001b[0m, in \u001b[0;36meither_dict_or_kwargs\u001b[1;34m(pos_kwargs, kw_kwargs, func_name)\u001b[0m\n\u001b[0;32m    276\u001b[0m     \u001b[39mreturn\u001b[39;00m cast(Mapping[Hashable, T], kw_kwargs)\n\u001b[0;32m    278\u001b[0m \u001b[39mif\u001b[39;00m \u001b[39mnot\u001b[39;00m is_dict_like(pos_kwargs):\n\u001b[1;32m--> 279\u001b[0m     \u001b[39mraise\u001b[39;00m \u001b[39mValueError\u001b[39;00m(\u001b[39mf\u001b[39m\u001b[39m\"\u001b[39m\u001b[39mthe first argument to .\u001b[39m\u001b[39m{\u001b[39;00mfunc_name\u001b[39m}\u001b[39;00m\u001b[39m must be a dictionary\u001b[39m\u001b[39m\"\u001b[39m)\n\u001b[0;32m    280\u001b[0m \u001b[39mif\u001b[39;00m kw_kwargs:\n\u001b[0;32m    281\u001b[0m     \u001b[39mraise\u001b[39;00m \u001b[39mValueError\u001b[39;00m(\n\u001b[0;32m    282\u001b[0m         \u001b[39mf\u001b[39m\u001b[39m\"\u001b[39m\u001b[39mcannot specify both keyword and positional arguments to .\u001b[39m\u001b[39m{\u001b[39;00mfunc_name\u001b[39m}\u001b[39;00m\u001b[39m\"\u001b[39m\n\u001b[0;32m    283\u001b[0m     )\n",
      "\u001b[1;31mValueError\u001b[0m: the first argument to .sel must be a dictionary"
     ]
    }
   ],
   "source": [
    "lat_bnds, lon_bnds = [-43.6345972634, -10.6681857235], [113.338953078, 153.569469029]\n",
    "subset = file.sel(lat=slice(*lat_bnds), lon=slice(*lon_bnds))\n",
    "\n",
    "#subset.to_netcdf('test.nc')\n",
    "\n",
    "#subset.variables.keys()\n",
    "variable = 'rsds'\n",
    "print(subset)\n",
    "#test = subset.variables['rsds'].to_array()\n",
    "#globe = file.sfcWind\n",
    "\n",
    "#plt.contourf(test[1,:,::-1])\n",
    "#plt.contourf(globe[1,:,::-1])"
   ]
  }
 ],
 "metadata": {
  "kernelspec": {
   "display_name": "Weather_api",
   "language": "python",
   "name": "python3"
  },
  "language_info": {
   "codemirror_mode": {
    "name": "ipython",
    "version": 3
   },
   "file_extension": ".py",
   "mimetype": "text/x-python",
   "name": "python",
   "nbconvert_exporter": "python",
   "pygments_lexer": "ipython3",
   "version": "3.8.15"
  },
  "orig_nbformat": 4,
  "vscode": {
   "interpreter": {
    "hash": "f85691e557b077ebae1b951533bd8b8fcb20d03e04b35f8404ccb5d31abb4020"
   }
  }
 },
 "nbformat": 4,
 "nbformat_minor": 2
}
