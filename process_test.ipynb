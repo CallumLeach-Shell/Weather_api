{
 "cells": [
  {
   "cell_type": "code",
   "execution_count": 12,
   "metadata": {},
   "outputs": [],
   "source": [
    "import netCDF4\n",
    "import xarray as xr\n",
    "import numpy as np\n",
    "import json\n",
    "import yaml\n",
    "import os"
   ]
  },
  {
   "cell_type": "code",
   "execution_count": 26,
   "metadata": {},
   "outputs": [],
   "source": [
    "try:\n",
    "    with open('config.yaml') as f:\n",
    "        config = yaml.load(f, Loader=yaml.FullLoader)\n",
    "    \n",
    "except FileNotFoundError as err:\n",
    "    print(f\"LOAD CONFIG ERROR: {err}\")\n",
    "\n",
    "# A few conditions when processing input from yaml file.\n",
    "if os.path.isdir(config['to_process'][0]) == True:\n",
    "    files = os.listdir(config['to_process'])\n",
    "\n",
    "else:\n",
    "    files = config['to_process']\n",
    "\n",
    "\n",
    "#file = xr.open_dataset('./CMIP6/sfcWind_Amon_ACCESS-ESM1-5_ssp126_r1i1p1f1_gn_210101-230012.nc')\n",
    "# Load the country bounding box json file.\n",
    "\n",
    "# Open the bounding box json file.\n",
    "with open(\"country_bounding_box.json\", \"r\") as infile:\n",
    "    bounding_box_raw = json.load(infile)\n",
    "\n",
    "country_code = 'AU'\n",
    "\n",
    "if len(country_code) > 2:        \n",
    "    country_bbox = next(bounding_box_raw[i][1] for i in bounding_box_raw if bounding_box_raw[i][0] == country_code)\n",
    "else:\n",
    "    country_bbox = bounding_box_raw[country_code][1]"
   ]
  },
  {
   "cell_type": "code",
   "execution_count": 30,
   "metadata": {},
   "outputs": [
    {
     "name": "stderr",
     "output_type": "stream",
     "text": [
      "c:\\Users\\Callum.Leach\\Envs\\test\\lib\\site-packages\\xarray\\coding\\times.py:710: SerializationWarning: Unable to decode time axis into full numpy.datetime64 objects, continuing using cftime.datetime objects instead, reason: dates out of range\n",
      "  dtype = _decode_cf_datetime_dtype(data, units, calendar, self.use_cftime)\n",
      "c:\\Users\\Callum.Leach\\Envs\\test\\lib\\site-packages\\xarray\\coding\\times.py:710: SerializationWarning: Unable to decode time axis into full numpy.datetime64 objects, continuing using cftime.datetime objects instead, reason: dates out of range\n",
      "  dtype = _decode_cf_datetime_dtype(data, units, calendar, self.use_cftime)\n",
      "c:\\Users\\Callum.Leach\\Envs\\test\\lib\\site-packages\\xarray\\core\\indexing.py:524: SerializationWarning: Unable to decode time axis into full numpy.datetime64 objects, continuing using cftime.datetime objects instead, reason: dates out of range\n",
      "  return np.asarray(array[self.key], dtype=None)\n"
     ]
    }
   ],
   "source": [
    "for file in files:\n",
    "    #file = xr.open_dataset(file)\n",
    "    print(os.path.basename(file))"
   ]
  }
 ],
 "metadata": {
  "kernelspec": {
   "display_name": "test",
   "language": "python",
   "name": "python3"
  },
  "language_info": {
   "codemirror_mode": {
    "name": "ipython",
    "version": 3
   },
   "file_extension": ".py",
   "mimetype": "text/x-python",
   "name": "python",
   "nbconvert_exporter": "python",
   "pygments_lexer": "ipython3",
   "version": "3.9.13"
  },
  "orig_nbformat": 4
 },
 "nbformat": 4,
 "nbformat_minor": 2
}
